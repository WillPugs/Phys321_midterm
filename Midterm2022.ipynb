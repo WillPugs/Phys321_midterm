{
 "cells": [
  {
   "cell_type": "markdown",
   "metadata": {},
   "source": [
    "# Midterm Exam Winter 2022"
   ]
  },
  {
   "cell_type": "markdown",
   "metadata": {},
   "source": [
    "This midterm exam is an open-book, open-resource exam. However, you may not collaborate with anyone. Please send clarification questions and hint requests to me at [adrian.liu2@mcgill.ca](mailto:adrian.liu2@mcgill.ca). Submission instructions are below. The exam is due at 11:59:59 Eastern on February 24th, 2022.\n",
    "\n",
    "You may copy and paste code from your previous assignments, but __you must cite your sources__. E.g., if you want to use a function that you wrote in Coding Lab 02, please include the comment \"this function was copied from Coding Lab 02\"\n",
    "\n",
    "**There will be a few points available in questions 4 and 6 for good coding habits. For example, if there is a bit of code that you intend to reuse, define a function rather than copying and pasting it multiple times!**"
   ]
  },
  {
   "cell_type": "markdown",
   "metadata": {},
   "source": [
    "## Question 1"
   ]
  },
  {
   "cell_type": "markdown",
   "metadata": {},
   "source": [
    "I have created a ``git`` repo here: https://github.com/acliu/PHYS321_Midterm2022.git. In this repo there is an old ``git`` commit with the commit message \"movie quote commit here\". In that commit is a file called ``movie_quote.txt`` (which no longer exists in the current commit), and inside the file is a quote from a movie:\n",
    "1. Retrieve this quote and write it down below.\n",
    "2. Write down the ``git`` commands you used to clone the repo and the commands you used to help you retrieve the quote.\n",
    "\n",
    "There are multiple ways to do this using ``git``. I am not picky about how you do this, as long as 1) you used the command line, and 2) it isn't \"I went to the Github website and looked there\"."
   ]
  },
  {
   "cell_type": "markdown",
   "metadata": {},
   "source": [
    "Ans.\n",
    "> git clone https://github.com/acliu/PHYS321_Midterm2022.git\n",
    "\n",
    "> cd .\\PHYS321_Midterm2022\\\n",
    "\n",
    "> git log \n",
    "\n",
    "> git checkout 2711b6a83fd68629ce605a263b58040d861ae118\n",
    "\n",
    "> .\\movie_quote.txt\n",
    "\n",
    "May the Force be with you"
   ]
  },
  {
   "cell_type": "markdown",
   "metadata": {},
   "source": [
    "## Question 2"
   ]
  },
  {
   "cell_type": "markdown",
   "metadata": {},
   "source": [
    "Create a **new** repo on the ``github`` website and clone it. Do an initial commit of this Jupyter notebook locally on your command line and commit with the message \"first commit of midterm\". Do this now (because I will be looking for a commit in your history prior to your final submission). Push to your repo. Write down all the commands that you used on the command line to do this."
   ]
  },
  {
   "cell_type": "markdown",
   "metadata": {},
   "source": [
    "Ans.\n",
    "> git clone https://github.com/WillPugs/Phys321_midterm.git\n",
    "\n",
    "> cd .\\Phys321_midterm\\\n",
    "\n",
    "> git add Midterm2022.ipynb\n",
    "\n",
    "> git status\n",
    "\n",
    "> git commit -m 'first commit of midterm'\n",
    "\n",
    "> git push origin main"
   ]
  },
  {
   "cell_type": "markdown",
   "metadata": {},
   "source": [
    "## Question 3"
   ]
  },
  {
   "cell_type": "markdown",
   "metadata": {},
   "source": [
    "Note that although the answers to 3(a) and 3(c) can be found by Googling, to get full credit you will need to show how you can get the answer using code. "
   ]
  },
  {
   "cell_type": "markdown",
   "metadata": {},
   "source": [
    "__a)__ A few years ago people thought that the star Betelgeuse could go supernova. Where is Betelgeuse (in RA and DEC)?"
   ]
  },
  {
   "cell_type": "code",
   "execution_count": 107,
   "metadata": {},
   "outputs": [],
   "source": [
    "from astropy import units as u\n",
    "from astropy.coordinates import SkyCoord"
   ]
  },
  {
   "cell_type": "code",
   "execution_count": 108,
   "metadata": {},
   "outputs": [
    {
     "data": {
      "text/latex": [
       "$88^\\circ47{}^\\prime34.580364{}^{\\prime\\prime}$"
      ],
      "text/plain": [
       "<Longitude 88.79293899 deg>"
      ]
     },
     "execution_count": 108,
     "metadata": {},
     "output_type": "execute_result"
    }
   ],
   "source": [
    "#use sesame name resolver to find Betelgeuse's reference\n",
    "betelgeuse_center = SkyCoord.from_name('alf Ori\t')\n",
    "betelgeuse_center.ra"
   ]
  },
  {
   "cell_type": "code",
   "execution_count": 109,
   "metadata": {},
   "outputs": [
    {
     "data": {
      "text/latex": [
       "$7^\\circ24{}^\\prime25.4304{}^{\\prime\\prime}$"
      ],
      "text/plain": [
       "<Latitude 7.407064 deg>"
      ]
     },
     "execution_count": 109,
     "metadata": {},
     "output_type": "execute_result"
    }
   ],
   "source": [
    "betelgeuse_center.dec"
   ]
  },
  {
   "cell_type": "markdown",
   "metadata": {},
   "source": [
    "__b)__ Is Betelgeuse viewable from all parts of the northern hemisphere? Is it viewable from all parts of the southern hemisphere?"
   ]
  },
  {
   "cell_type": "markdown",
   "metadata": {},
   "source": [
    "Ans. Betelgeuse is viewable from all parts of the northern hemisphere as it has a positive declination. This star can be seen from parts of the southern hemisphere, up to latidtudes of $dec-90^\\circ\\approx -82.6^\\circ$."
   ]
  },
  {
   "cell_type": "markdown",
   "metadata": {},
   "source": [
    "__c)__ Suppose Betelgeuse were to go supernova during March break. For roughly how many hours every night will it be in principle observable? (Assume that we have a telescope that can be see horizon-to-horizon, and neglect the fact that Sun can affect astronomical observations even when it is slightly below the horizon"
   ]
  },
  {
   "cell_type": "code",
   "execution_count": 110,
   "metadata": {},
   "outputs": [],
   "source": [
    "#setup copied from coding lab 1\n",
    "from astropy.coordinates import EarthLocation, AltAz, get_sun\n",
    "from astropy.time import Time\n",
    "\n",
    "from astropy.visualization import quantity_support, time_support\n",
    "quantity_support()\n",
    "time_support()\n",
    "from matplotlib import pyplot as plt\n",
    "\n",
    "McGill = EarthLocation(lat='45d30.29m', lon='-73d34.63m')"
   ]
  },
  {
   "cell_type": "code",
   "execution_count": 111,
   "metadata": {},
   "outputs": [
    {
     "data": {
      "image/png": "[encoded data removed]",
      "text/plain": [
       "<Figure size 432x288 with 1 Axes>"
      ]
     },
     "metadata": {
      "needs_background": "light"
     },
     "output_type": "display_data"
    }
   ],
   "source": [
    "#new code\n",
    "observing_time = Time('2022-02-28') #march break starts on the Monday 26 of Feb\n",
    "\n",
    "t = range(22, 33)\n",
    "times = [observing_time + i*u.hour for i in t] #look at Betelgeuse every hour\n",
    "frames = [AltAz(location=McGill, obstime=time) for time in times] #new reference frame every hour\n",
    "\n",
    "star_pos = [betelgeuse_center.transform_to(ref) for ref in frames]\n",
    "Suns = [get_sun(time).transform_to(AltAz(location=McGill, obstime=time)) for time in times] #use times not frames for get_sun argument \n",
    "\n",
    "plt.figure()\n",
    "plt.plot([i for i in t], [y.az.deg for y in star_pos], label=\"Betelgeuse Azimuthal\")\n",
    "plt.plot([i for i in t], [y.alt.deg for y in star_pos], label=\"Betelgeuse Altitude\")\n",
    "plt.plot([i for i in t], [s.alt.deg for s in Suns], label=\"Sun's Altitude\")\n",
    "\n",
    "plt.hlines(0, min(t), max(t), 'k')\n",
    "\n",
    "plt.legend()\n",
    "plt.xlabel(f\"Hours since {observing_time}\")\n",
    "plt.ylabel(\"Angle (Degrees)\")\n",
    "plt.show()"
   ]
  },
  {
   "cell_type": "markdown",
   "metadata": {},
   "source": [
    "Ans. We need Sun's altitude to be below the horizon and Betelgeuse's to be above. this corresponds roughly to the range 23 hours - 31 hours. During March break there are around eight hours a day where Betelgeuse is observable from Montreal."
   ]
  },
  {
   "cell_type": "markdown",
   "metadata": {},
   "source": [
    "## Question 4"
   ]
  },
  {
   "cell_type": "markdown",
   "metadata": {},
   "source": [
    "Let's compare the Hubble Space Telescope (HST) to the recently launched (and soon operational!) James Webb Space Telescope (JWST)."
   ]
  },
  {
   "cell_type": "markdown",
   "metadata": {},
   "source": [
    "__a)__ First we'll compare the sensitivity of these telescopes. HST is said to have a \"limiting magnitude\" $+31.5$ while JWST's is $+34$. Which telescope can see fainter things? By what factor? (In reality this is not an entirely fair comparison because HST and JWST observe at different wavelengths and are good at different types of science)."
   ]
  },
  {
   "cell_type": "markdown",
   "metadata": {},
   "source": [
    "Ans. JWST can see fainter objects. Plugging $m_1=31.5$ and $m_2=34$ into\n",
    "\n",
    "$\\frac{F_2}{F_1}=100^{\\frac{m_1-m_2}{5}}$\n",
    "\n",
    "gives $0.1$. JSWT can see object emitting one tenth as mush flux as HST can."
   ]
  },
  {
   "cell_type": "markdown",
   "metadata": {},
   "source": [
    "__b)__ Produce the following plots:\n",
    "* The minimum luminosity of an object (expressed in absolute magnitudes) that can be seen by HST and JWST as a function of redshift $z$\n",
    "* The same plots but with the luminosity expressed in units of the Solar luminosity $L_\\odot$\n",
    "* The previous two plots but as a function of distance rather than redshift.\n",
    "\n",
    "Have your plots span $0 < z < 10$, and make sure the plots are visually easy to read. (Marks will be deducted if, for example, the trends cannot be easily seen because of inappropriate axis ranges)."
   ]
  },
  {
   "cell_type": "code",
   "execution_count": 112,
   "metadata": {},
   "outputs": [],
   "source": [
    "from astropy.cosmology import Planck15\n",
    "import numpy as np"
   ]
  },
  {
   "cell_type": "code",
   "execution_count": 113,
   "metadata": {},
   "outputs": [
    {
     "name": "stderr",
     "output_type": "stream",
     "text": [
      "C:\\Users\\willp\\Anaconda3\\lib\\site-packages\\astropy\\cosmology\\flrw.py:1280: RuntimeWarning: divide by zero encountered in log10\n",
      "  val = 5. * np.log10(abs(self.luminosity_distance(z).value)) + 25.0\n"
     ]
    },
    {
     "data": {
      "image/png": "[encoded data removed]",
      "text/plain": [
       "<Figure size 432x288 with 1 Axes>"
      ]
     },
     "metadata": {
      "needs_background": "light"
     },
     "output_type": "display_data"
    }
   ],
   "source": [
    "def abs_mag(z, apparent, solar=False):\n",
    "    \"\"\" (float, float, boolean) -> (float)\n",
    "    absolute mag = apparent mag - dist_mod \n",
    "    z: redshift\n",
    "    solar: whether or not the answer should be reported in solar units\n",
    "    Assume Planck15 cosmology\n",
    "    \"\"\"\n",
    "    if solar: #units for conversion from wikipedia\n",
    "        power = -((apparent-Planck15.distmod(z).value)-4.74)/5\n",
    "        return 100**power\n",
    "    return apparent-Planck15.distmod(z).value\n",
    "\n",
    "redshifts = np.linspace(0, 10, 100)\n",
    "abs_HST = abs_mag(redshifts, 31.5)\n",
    "abs_JWST = abs_mag(redshifts, 34)\n",
    "\n",
    "plt.figure()\n",
    "plt.plot(redshifts, abs_HST, label='HST')\n",
    "plt.plot(redshifts, abs_JWST, label='JWST')\n",
    "\n",
    "plt.title('Minimum Luminosites that can be Seen')\n",
    "plt.xlabel('z')\n",
    "plt.ylabel('Absolute Magnitude')\n",
    "plt.legend()\n",
    "plt.show()"
   ]
  },
  {
   "cell_type": "code",
   "execution_count": 114,
   "metadata": {},
   "outputs": [
    {
     "data": {
      "image/png": "[encoded data removed]",
      "text/plain": [
       "<Figure size 432x288 with 1 Axes>"
      ]
     },
     "metadata": {
      "needs_background": "light"
     },
     "output_type": "display_data"
    }
   ],
   "source": [
    "#change range for plot visibility \n",
    "redshifts = np.linspace(1, 10, 100)\n",
    "abs_HST = abs_mag(redshifts, 31.5, True)\n",
    "abs_JWST = abs_mag(redshifts, 34, True)\n",
    "\n",
    "plt.figure()\n",
    "plt.plot(redshifts, abs_HST, label='HST')\n",
    "plt.plot(redshifts, abs_JWST, label='JWST')\n",
    "\n",
    "plt.title('Minimum Luminosites that can be Seen')\n",
    "plt.xlabel('z')\n",
    "plt.ylabel('Solar Luminosities')\n",
    "plt.legend()\n",
    "plt.show()"
   ]
  },
  {
   "cell_type": "code",
   "execution_count": 115,
   "metadata": {},
   "outputs": [
    {
     "name": "stderr",
     "output_type": "stream",
     "text": [
      "C:\\Users\\willp\\Anaconda3\\lib\\site-packages\\astropy\\cosmology\\flrw.py:1280: RuntimeWarning: divide by zero encountered in log10\n",
      "  val = 5. * np.log10(abs(self.luminosity_distance(z).value)) + 25.0\n"
     ]
    },
    {
     "data": {
      "image/png": "[encoded data removed]",
      "text/plain": [
       "<Figure size 432x288 with 1 Axes>"
      ]
     },
     "metadata": {
      "needs_background": "light"
     },
     "output_type": "display_data"
    },
    {
     "data": {
      "image/png": "[encoded data removed]",
      "text/plain": [
       "<Figure size 432x288 with 1 Axes>"
      ]
     },
     "metadata": {
      "needs_background": "light"
     },
     "output_type": "display_data"
    }
   ],
   "source": [
    "redshifts = np.linspace(0, 10, 100)\n",
    "x = Planck15.luminosity_distance(redshifts).value #redshifts to distance\n",
    "abs_HST = abs_mag(redshifts, 31.5)\n",
    "abs_JWST = abs_mag(redshifts, 34)\n",
    "\n",
    "plt.figure()\n",
    "plt.plot(x, abs_HST, label='HST')\n",
    "plt.plot(x, abs_JWST, label='JWST')\n",
    "\n",
    "plt.title('Minimum Luminosites that can be Seen')\n",
    "plt.xlabel('Distance (Mpc)')\n",
    "plt.ylabel('Absolute Magnitude')\n",
    "plt.legend()\n",
    "plt.show()\n",
    "\n",
    "#change range for plot visibility \n",
    "redshifts = np.linspace(1, 10, 100)\n",
    "x = Planck15.luminosity_distance(redshifts).value #redshifts to distance\n",
    "abs_HST = abs_mag(redshifts, 31.5, True)\n",
    "abs_JWST = abs_mag(redshifts, 34, True)\n",
    "\n",
    "plt.figure()\n",
    "plt.plot(x, abs_HST, label='HST')\n",
    "plt.plot(x, abs_JWST, label='JWST')\n",
    "\n",
    "plt.title('Minimum Luminosites that can be Seen')\n",
    "plt.xlabel('Distance (Mpc)')\n",
    "plt.ylabel('Solar Luminosities')\n",
    "plt.legend()\n",
    "plt.show()"
   ]
  },
  {
   "cell_type": "markdown",
   "metadata": {},
   "source": [
    "There is a slight (but visible) difference in the shapes of the graphs at smaller redshifts/distances. At higher values the relationship between redshift and luminosity distance becomes nearly linear. "
   ]
  },
  {
   "cell_type": "markdown",
   "metadata": {},
   "source": [
    "__c)__ Suppose we lived in a (fake) universe that contained only three types of galaxies, each of which have an exact well-defined luminosity:\n",
    "* Type A galaxies that have luminosity $L = 10^{8}L_\\odot$. These galaxies have a number density of $10^{-2}$ per comoving Mpc$^{3}$.\n",
    "* Type B galaxies that have luminosity $L = 10^{10}L_\\odot$. These galaxies have a number density of $5 \\times 10^{-2}$ per comoving Mpc$^{3}$.\n",
    "* Type C galaxies that have luminosity $L = 10^{12}L_\\odot$. These galaxies have a number density of $10^{-3}$ per comoving Mpc$^{3}$.\n",
    "\n",
    "Now imagine (completely unrealistically) that we get to use HST and JWST to perform a galaxy survey over the entire sky. How many of each galaxy type should I expect to find?"
   ]
  },
  {
   "cell_type": "code",
   "execution_count": 116,
   "metadata": {},
   "outputs": [
    {
     "name": "stdout",
     "output_type": "stream",
     "text": [
      "HST\n",
      "Type A Galaxies: 4.765282e+11\n",
      "Type B Galaxies: 2.382641e+15\n",
      "Type C Galaxies: 4.765282e+16\n",
      "JWST\n",
      "Type A Galaxies: 1.506914e+13\n",
      "Type B Galaxies: 7.534572e+16\n",
      "Type C Galaxies: 1.506914e+18\n"
     ]
    }
   ],
   "source": [
    "#step 1, find max distane at which a type of galaxy is visible\n",
    "#step 2, find the volume of the universe this visible distance corresponds to\n",
    "#step 3, mulitply by density\n",
    "\n",
    "def get_abs(L):\n",
    "    \"\"\" (float) -> (float)\n",
    "    Finds the absolute magnitude of an object with luminosity L in solar luminosities.\n",
    "    \"\"\"\n",
    "    return np.log10(L)/-0.4 + 4.74\n",
    "\n",
    "def get_dist(L, apparent):\n",
    "    \"\"\" (float) -> (float)\n",
    "    Finds the max distance (Mpc) that an object of luminosity L in solar luminosites can be seen.\n",
    "    apprent: max apparent magnitude observable.\n",
    "    \"\"\"\n",
    "    temp = 10*u.pc*np.sqrt(100**((apparent-get_abs(L))/5))\n",
    "    return temp.to(u.Mpc).value\n",
    "\n",
    "def sphere_volume(r):\n",
    "    return 4*np.pi*r**3/3\n",
    "\n",
    "def num_obj(L, apparent, density):\n",
    "    \"\"\" (float, float, float) -> (float)\n",
    "    L: luminosity of object in solar luminosites\n",
    "    apparent: max apparent observable magnitude\n",
    "    density: density of objects in the universe\n",
    "    \"\"\"\n",
    "    return density*sphere_volume(get_dist(L, apparent))\n",
    "\n",
    "print('HST')\n",
    "print(\"Type A Galaxies:\", \"{:e}\".format(num_obj(10**8, 31.5, 10**-2)))\n",
    "print(\"Type B Galaxies:\", \"{:e}\".format(num_obj(10**10, 31.5, 5*10**-2)))\n",
    "print(\"Type C Galaxies:\", \"{:e}\".format(num_obj(10**12, 31.5, 10**-3)))\n",
    "\n",
    "print('JWST')\n",
    "print(\"Type A Galaxies:\", \"{:e}\".format(num_obj(10**8, 34, 10**-2)))\n",
    "print(\"Type B Galaxies:\", \"{:e}\".format(num_obj(10**10, 34, 5*10**-2)))\n",
    "print(\"Type C Galaxies:\", \"{:e}\".format(num_obj(10**12, 34, 10**-3)))"
   ]
  },
  {
   "cell_type": "markdown",
   "metadata": {},
   "source": [
    "## Question 5"
   ]
  },
  {
   "cell_type": "markdown",
   "metadata": {},
   "source": [
    "Note that this question is designed to be a little bit more open-ended than the others. You will need to explain your answer **in addition** to performing some simple calculations."
   ]
  },
  {
   "cell_type": "markdown",
   "metadata": {},
   "source": [
    "I am interested in designing a spam filter that decides if an email is suspicious or not by looking for various key words. Would the word \"free\" be a good one to use? Support your answer with a calculation. Feel free to collect some data from your own inbox! If the word \"free\" is an effective one to use, what would be an example of an ineffective word? And why would it be ineffective? If you decide that \"free\" is ineffective, give an example of a better choice. In both cases, explain why. (Ideally with some numerical examples)."
   ]
  },
  {
   "cell_type": "markdown",
   "metadata": {},
   "source": [
    "Ans.\n",
    "\n",
    "In this situation we are looking for the proability that an email is suspicious given that it contains the word free. In proability theory notation: $P(sus|free)$. Using Baye's theorem we can rewrite this expression as\n",
    "\n",
    "$P(sus|free)=\\frac{P(free|sus)\\cdot P(sus)}{P(free)}.$\n",
    "\n",
    "Using data from my inbox:\n",
    "* $1/9$ emails in my junk box conatains the word free (my mail box deletes spam after 10 days so the rest of our data will be within this timeframe as well).\n",
    "* $3/30$ emails in my regular inbox over the past 10 days contain the word free.\n",
    "\n",
    "Therefore\n",
    "* $P(free|sus)=1/9$\n",
    "* $P(sus) = 9/39$\n",
    "* $P(free) = 4/39$\n",
    "\n",
    "and so $P(sus|free)=1/4$. This means that \"free\" is not a good indicator of suspicion; an email is more likely than not to be perfectly normal when it contains the word free. I believe this is because there are a couple email lists that I am subscribed to that send promotional emails \"one month free\", etc.. After going through my inbox a little more I think a better word would be \"casino\". This would be dependent on each specific person, but I am not subscribed to any online casino services so any emails relating to these would likely be spam.\n",
    "* $1/9$ emails in my junk box contain the word casino.\n",
    "* $0/30$ emails in my regular inbox contain the word casino.\n",
    "\n",
    "Therefore\n",
    "* $P(casino|sus)=1/9$\n",
    "* $P(sus) = 9/39$\n",
    "* $P(casino) = 1/39$\n",
    "\n",
    "and so $P(sus|casino)=1$. Casino would be a great word since, given the data and Baye's theorem, every email with the word casion is spam."
   ]
  },
  {
   "cell_type": "markdown",
   "metadata": {},
   "source": [
    "## Question 6"
   ]
  },
  {
   "cell_type": "markdown",
   "metadata": {},
   "source": [
    "Tony and Stephen are selling cakes on rue Sherbrooke. Their boss, Carol, has noticed that the number of cakes they sell per hour is well-modelled by a Poisson distribution. That is, if $n$ is a random variable signifying the number of cakes sold in an hour, the probability distribution $p(n)$ is given by\n",
    "\n",
    "\\begin{equation}\n",
    "p(n) = \\frac{e^{-\\lambda} \\lambda^n}{n!}\n",
    "\\end{equation}"
   ]
  },
  {
   "cell_type": "markdown",
   "metadata": {},
   "source": [
    "Carol has noticed, however, that the mean number of cakes sold per hour is different for her two salespeople. In other words, $\\lambda_\\textrm{tony} \\neq \\lambda_\\textrm{stephen}$. Through years of observations, she has determined that $\\lambda_\\textrm{tony} = 5$ and $\\lambda_\\textrm{stephen} = 8$."
   ]
  },
  {
   "cell_type": "markdown",
   "metadata": {},
   "source": [
    "Today, Stephen worked for 6 hours and claimed that he sold $6$, $6$, $8$, $8$, $6$, $8$ cakes (each number represents the number of cakes sold in an hour). These numbers are kinda low for Stephen, so Carol confronts him and asks him if Tony had secretly substituted for him. Stephen objects. He says that there are always random fluctuations, and that he'll really need to see a rigorous statistical analysis."
   ]
  },
  {
   "cell_type": "markdown",
   "metadata": {},
   "source": [
    "Carol turns to you for help, asking you to use your Bayesian inference skills to help her out. Can you help her? Do you think Tony substituted for Stephen? How confident are you in your conclusion?"
   ]
  },
  {
   "cell_type": "markdown",
   "metadata": {},
   "source": [
    "Ans. \n",
    "\n",
    "Using Baye's theorem, $M$ is the mean cakes sold in an hour and $d_i$ is the data Carol gathered.\n",
    "\n",
    "$P(M|d_{1,...6})\\:\\propto\\: P(d_{1,...,6}|M)P(M)$\n",
    "\n",
    "The amount of cakes sold in an hour should be independent of the number of cakes sold in the previous hours i.e. $P(d_{1,...,6}|M)=P(d_1|M)\\cdot...\\cdot P(d_6|M)$\n",
    "\n",
    "Assuming that the prior in uniform between $0$ cakes sold and $15$ cakes sold."
   ]
  },
  {
   "cell_type": "code",
   "execution_count": 122,
   "metadata": {},
   "outputs": [
    {
     "name": "stdout",
     "output_type": "stream",
     "text": [
      "P(Tony) = 0.04372514735053781\n",
      "P(Stephen) = 0.24915515607069452\n",
      "Ratio: 5.69821192535398\n"
     ]
    },
    {
     "data": {
      "image/png": "[encoded data removed]",
      "text/plain": [
       "<Figure size 432x288 with 1 Axes>"
      ]
     },
     "metadata": {
      "needs_background": "light"
     },
     "output_type": "display_data"
    }
   ],
   "source": [
    "from scipy.special import factorial #factorial used in binomial distribution (works with numpy)\n",
    "\n",
    "def binomial(data, mean):\n",
    "    \"\"\" (numpy array, float) -> (numpy array)\n",
    "    Evaluates a binomial distribution at the points in data given the mean.\n",
    "    \"\"\"\n",
    "    return np.exp(-mean)*(mean**data)/factorial(data)\n",
    "\n",
    "\n",
    "def posterior(data, mean):\n",
    "    \"\"\" (numpy array, float) -> (float)\n",
    "    Evaluates the (unnomralized) posterior distribution at the points in data.\n",
    "    \"\"\"\n",
    "    tot = 1\n",
    "    for i in range(len(data)): #handles data of arbitrary size\n",
    "        tot *= binomial(data[i], mean)\n",
    "    return tot/15 #/15 is the posterior (this could just be absorbed into the normalization)\n",
    "\n",
    "def normalize(data):\n",
    "    \"\"\" (numpy array) -> (float)\n",
    "    Returns the normalization constant for the posterior given data points.\n",
    "    \"\"\"\n",
    "    means = np.linspace(0, 15, 1000) #0 outside of [0, 15] \n",
    "    y = posterior(data, means)\n",
    "    return sum(y)*(means[1]-means[0])\n",
    "\n",
    "data = np.array([6, 6, 8, 8, 6, 8])\n",
    "\n",
    "means = np.linspace(0, 15, 1000)\n",
    "y = posterior(data, means)/normalize(data)\n",
    "\n",
    "#print(sum(y)*(means[1]-means[0])) #checking normalization\n",
    "print(f\"P(Tony) = {posterior(data, 5)/normalize(data)}\")\n",
    "print(f\"P(Stephen) = {posterior(data, 8)/normalize(data)}\")\n",
    "print(f\"Ratio: {posterior(data, 8)/normalize(data)/(posterior(data, 5)/normalize(data))}\")\n",
    "\n",
    "plt.figure()\n",
    "plt.plot(means, y)\n",
    "plt.xlabel('Mean')\n",
    "plt.ylabel('P(Mean|data)')\n",
    "plt.title('Probability Distribution of Mean Cakes Sold per Hour')\n",
    "plt.show()"
   ]
  },
  {
   "cell_type": "markdown",
   "metadata": {},
   "source": [
    "It is roughly $5.6$ times more likely that Stephen was the one selling cakes on that day than Tony. So while it is unlikely that Tony was substituting for Stephen and Carol does not have enough evidence to be making accusations, it is still not beyond a reasonable doubt that Tony substituted. "
   ]
  },
  {
   "cell_type": "markdown",
   "metadata": {},
   "source": [
    "## Ungraded question"
   ]
  },
  {
   "cell_type": "markdown",
   "metadata": {},
   "source": [
    "I would like to tailor the last third of the course to your interests, as well as to get your overall feedback on things. Please fill out [this](https://forms.gle/Sy4Lf6QVdYdUA23a6) anonymous survey to help me with that. This is not a graded part of your midterm, but now is just a convenient time to do it."
   ]
  },
  {
   "cell_type": "markdown",
   "metadata": {},
   "source": [
    "## Submission"
   ]
  },
  {
   "cell_type": "markdown",
   "metadata": {},
   "source": [
    "You're done! Do a final git commit, taking care to include everything relevant (e.g., if you created a new ``tools.py`` file, be sure to include it). If you decide to revise your answers before the deadline, no problem---just make the changes you want to make and resubmit your work. Push your work to your repo, and send me an invitation to the repo (my Github username is acliu)"
   ]
  },
  {
   "cell_type": "code",
   "execution_count": null,
   "metadata": {},
   "outputs": [],
   "source": []
  }
 ],
 "metadata": {
  "kernelspec": {
   "display_name": "Python 3",
   "language": "python",
   "name": "python3"
  },
  "language_info": {
   "codemirror_mode": {
    "name": "ipython",
    "version": 3
   },
   "file_extension": ".py",
   "mimetype": "text/x-python",
   "name": "python",
   "nbconvert_exporter": "python",
   "pygments_lexer": "ipython3",
   "version": "3.8.5"
  }
 },
 "nbformat": 4,
 "nbformat_minor": 4
}
